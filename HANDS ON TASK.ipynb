{
 "cells": [
  {
   "cell_type": "markdown",
   "id": "f861d2f6",
   "metadata": {},
   "source": [
    "IMPORTING THE LIBRARIES"
   ]
  },
  {
   "cell_type": "code",
   "execution_count": 149,
   "id": "42a58c10",
   "metadata": {},
   "outputs": [],
   "source": [
    "import json"
   ]
  },
  {
   "cell_type": "markdown",
   "id": "c4d8b813",
   "metadata": {},
   "source": [
    "SETTING OPEN AI CREDENTIALS"
   ]
  },
  {
   "cell_type": "code",
   "execution_count": 1,
   "id": "e16cf544",
   "metadata": {},
   "outputs": [],
   "source": [
    "import openai\n",
    "\n",
    "openai.api_type = \"\"\n",
    "openai.api_base = \"\"\n",
    "openai.api_version = \"\"\n",
    "openai.api_key = ''"
   ]
  },
  {
   "cell_type": "code",
   "execution_count": 2,
   "id": "8676af68",
   "metadata": {},
   "outputs": [],
   "source": [
    "from PyPDF2 import PdfReader"
   ]
  },
  {
   "cell_type": "code",
   "execution_count": 8,
   "id": "a974579c",
   "metadata": {},
   "outputs": [],
   "source": [
    "import ast\n",
    "\n",
    "import pandas as pd"
   ]
  },
  {
   "cell_type": "markdown",
   "id": "b76c2534",
   "metadata": {},
   "source": [
    "READING THE PDF AND THEN EXTRACTING ONLY THE FIRST 5 PAGES OF THE PDF TO GET THE TABLE OF CONTENTS INFORMATION"
   ]
  },
  {
   "cell_type": "code",
   "execution_count": 54,
   "id": "375beeb3",
   "metadata": {},
   "outputs": [],
   "source": [
    "from langchain.chains.summarize import load_summarize_chain"
   ]
  },
  {
   "cell_type": "code",
   "execution_count": 3,
   "id": "bd3c9dbe",
   "metadata": {},
   "outputs": [],
   "source": [
    "reader = PdfReader(\"Task1_Input.pdf\")"
   ]
  },
  {
   "cell_type": "code",
   "execution_count": 4,
   "id": "ae72ea73",
   "metadata": {},
   "outputs": [],
   "source": [
    "first_pages = reader.pages[0:5]"
   ]
  },
  {
   "cell_type": "code",
   "execution_count": 5,
   "id": "ad4790b8",
   "metadata": {},
   "outputs": [],
   "source": [
    "raw_text = ''\n",
    "for i in first_pages:\n",
    "    content = i.extract_text()\n",
    "    raw_text += content"
   ]
  },
  {
   "cell_type": "code",
   "execution_count": 6,
   "id": "4859ef9a",
   "metadata": {},
   "outputs": [
    {
     "data": {
      "text/plain": [
       "10615"
      ]
     },
     "execution_count": 6,
     "metadata": {},
     "output_type": "execute_result"
    }
   ],
   "source": [
    "len(raw_text)"
   ]
  },
  {
   "cell_type": "markdown",
   "id": "498e883b",
   "metadata": {},
   "source": [
    "AFTER CONVERTING THE FIRST 5 PAGES OF THE PDF INTO STRING, THIS STRING IS FED TO THE OPEN AI GPT 3.5 MODEL TO FETCH PAGE NOS OF EACH CHAPTER"
   ]
  },
  {
   "cell_type": "code",
   "execution_count": 7,
   "id": "14eacc66",
   "metadata": {},
   "outputs": [],
   "source": [
    "result = openai.ChatCompletion.create(\n",
    "    engine=\"\",\n",
    "    messages=[\n",
    "        {\n",
    "          \"role\": \"system\",\n",
    "          \"content\": \"You are a helpful assistant for getting Chapter page numbers only for Chapters with name Change No for a given text.Get me Chapter Names and its corresponding Page Numbers.Please get me only Chapter Names and Page numbers in JSON format like this {'Change No':'Page No'}.Get me Chapter name and Page no for each and every chapter.\",\n",
    "        },\n",
    "        {\n",
    "          \"role\": \"user\",\n",
    "          \"content\": raw_text\n",
    "        },\n",
    "    ],\n",
    ")"
   ]
  },
  {
   "cell_type": "markdown",
   "id": "1d1db4f4",
   "metadata": {},
   "source": [
    "CONVERTING THE RESULT OF THE OPEN AI MODEL INTO A DATAFRAME WITH CHAPTER AND PAGE NOS"
   ]
  },
  {
   "cell_type": "code",
   "execution_count": 9,
   "id": "7b3fdc30",
   "metadata": {},
   "outputs": [],
   "source": [
    "dictionary = ast.literal_eval(result['choices'][0]['message']['content'])"
   ]
  },
  {
   "cell_type": "code",
   "execution_count": 10,
   "id": "8445c1bf",
   "metadata": {},
   "outputs": [],
   "source": [
    "page_infos = pd.DataFrame(dictionary.items(),columns=['CHAPTER','PAGE NO'])"
   ]
  },
  {
   "cell_type": "code",
   "execution_count": 11,
   "id": "3cc46af9",
   "metadata": {},
   "outputs": [],
   "source": [
    "page_infos = page_infos.rename(columns={'PAGE NO':'STARTING PAGE NO'})"
   ]
  },
  {
   "cell_type": "code",
   "execution_count": 13,
   "id": "a25eceac",
   "metadata": {},
   "outputs": [],
   "source": [
    "page_infos['STARTING PAGE NO'] = page_infos['STARTING PAGE NO'].astype(int)"
   ]
  },
  {
   "cell_type": "code",
   "execution_count": 14,
   "id": "22a069cb",
   "metadata": {},
   "outputs": [],
   "source": [
    "page_infos['ENDING PAGE NO'] = page_infos['STARTING PAGE NO'].shift(-1) -1"
   ]
  },
  {
   "cell_type": "markdown",
   "id": "ec46b5e9",
   "metadata": {},
   "source": [
    "EXTRACTING EACH CHAPTER CONTENT FROM THE PDF AND SAVING IN A SEPERATE DATAFRAME"
   ]
  },
  {
   "cell_type": "code",
   "execution_count": 16,
   "id": "35d8b7a5",
   "metadata": {},
   "outputs": [],
   "source": [
    "chapters_name = []\n",
    "chapters_content = []\n",
    "\n",
    "for i,j,k in zip(list(page_infos['CHAPTER']),list(page_infos['STARTING PAGE NO']),list(page_infos['ENDING PAGE NO'])):\n",
    "    pdf_file = open('Task1_Input.pdf','rb')\n",
    "    \n",
    "    pdf_reader = PdfReader(pdf_file)\n",
    "    \n",
    "    chapter_content = ''\n",
    "    \n",
    "    if k == 0:\n",
    "        page = reader.pages[j:int(k)]\n",
    "    else:\n",
    "        page = reader.pages[j:]\n",
    "    \n",
    "    for page_num in page:\n",
    "        content = page_num.extract_text()\n",
    "        chapter_content+=content\n",
    "    \n",
    "    chapters_name.append(i)\n",
    "    chapters_content.append(chapter_content)"
   ]
  },
  {
   "cell_type": "code",
   "execution_count": 17,
   "id": "d78d73be",
   "metadata": {},
   "outputs": [],
   "source": [
    "chap_content = pd.DataFrame(columns=['CHAPTER','CHAPTER CONTENT'])"
   ]
  },
  {
   "cell_type": "code",
   "execution_count": 18,
   "id": "ff14f22a",
   "metadata": {},
   "outputs": [],
   "source": [
    "chap_content['CHAPTER'] = chapters_name\n",
    "\n",
    "chap_content['CHAPTER CONTENT'] = chapters_content"
   ]
  },
  {
   "cell_type": "code",
   "execution_count": 19,
   "id": "2c209e20",
   "metadata": {},
   "outputs": [
    {
     "data": {
      "text/html": [
       "<div>\n",
       "<style scoped>\n",
       "    .dataframe tbody tr th:only-of-type {\n",
       "        vertical-align: middle;\n",
       "    }\n",
       "\n",
       "    .dataframe tbody tr th {\n",
       "        vertical-align: top;\n",
       "    }\n",
       "\n",
       "    .dataframe thead th {\n",
       "        text-align: right;\n",
       "    }\n",
       "</style>\n",
       "<table border=\"1\" class=\"dataframe\">\n",
       "  <thead>\n",
       "    <tr style=\"text-align: right;\">\n",
       "      <th></th>\n",
       "      <th>CHAPTER</th>\n",
       "      <th>CHAPTER CONTENT</th>\n",
       "    </tr>\n",
       "  </thead>\n",
       "  <tbody>\n",
       "    <tr>\n",
       "      <th>0</th>\n",
       "      <td>Change No. 1</td>\n",
       "      <td>HOMEOWNERS  \\nFORMS FI LING HO -2021 -OFR21  P...</td>\n",
       "    </tr>\n",
       "    <tr>\n",
       "      <th>1</th>\n",
       "      <td>Change No. 2</td>\n",
       "      <td>HOMEOWNERS  \\nFORMS FI LING HO -2021 -OFR21  P...</td>\n",
       "    </tr>\n",
       "    <tr>\n",
       "      <th>2</th>\n",
       "      <td>Change No. 3</td>\n",
       "      <td>HOMEOWNERS  \\nFORMS FI LING HO -2021 -OFR21  P...</td>\n",
       "    </tr>\n",
       "    <tr>\n",
       "      <th>3</th>\n",
       "      <td>Change No. 4</td>\n",
       "      <td>HOMEOWNERS  \\nFORMS FI LING HO -2021 -OFR21  P...</td>\n",
       "    </tr>\n",
       "    <tr>\n",
       "      <th>4</th>\n",
       "      <td>Change No. 5</td>\n",
       "      <td>HOMEOWNERS  \\nFORMS FI LING HO -2021 -OFR21  P...</td>\n",
       "    </tr>\n",
       "    <tr>\n",
       "      <th>5</th>\n",
       "      <td>Change No. 6</td>\n",
       "      <td>HOMEOWNERS  \\nFORMS FI LING HO -2021 -OFR21  P...</td>\n",
       "    </tr>\n",
       "    <tr>\n",
       "      <th>6</th>\n",
       "      <td>Change No. 7</td>\n",
       "      <td>HOMEOWNERS  \\nFORMS FI LING HO -2021 -OFR21  P...</td>\n",
       "    </tr>\n",
       "    <tr>\n",
       "      <th>7</th>\n",
       "      <td>Change No. 8</td>\n",
       "      <td>HOMEOWNERS  \\nFORMS FI LING HO -2021 -OFR21  P...</td>\n",
       "    </tr>\n",
       "    <tr>\n",
       "      <th>8</th>\n",
       "      <td>Change No. 9</td>\n",
       "      <td>HOMEOWNERS  \\nFORMS FI LING HO -2021 -OFR21  P...</td>\n",
       "    </tr>\n",
       "    <tr>\n",
       "      <th>9</th>\n",
       "      <td>Change No. 10</td>\n",
       "      <td>HOMEOWNERS  \\nFORMS FI LING HO -2021 -OFR21  P...</td>\n",
       "    </tr>\n",
       "    <tr>\n",
       "      <th>10</th>\n",
       "      <td>Change No. 11</td>\n",
       "      <td>HOMEOWNERS  \\nFORMS FI LING HO -2021 -OFR21  P...</td>\n",
       "    </tr>\n",
       "    <tr>\n",
       "      <th>11</th>\n",
       "      <td>Change No. 12</td>\n",
       "      <td>HOMEOWNERS  \\nFORMS FI LING HO -2021 -OFR21  P...</td>\n",
       "    </tr>\n",
       "    <tr>\n",
       "      <th>12</th>\n",
       "      <td>Change No. 13</td>\n",
       "      <td>HOMEOWNERS  \\nFORMS FI LING HO -2021 -OFR21  P...</td>\n",
       "    </tr>\n",
       "    <tr>\n",
       "      <th>13</th>\n",
       "      <td>Change No. 14</td>\n",
       "      <td>HOMEOWNERS  \\nFORMS FI LING HO -2021 -OFR21  P...</td>\n",
       "    </tr>\n",
       "    <tr>\n",
       "      <th>14</th>\n",
       "      <td>Change No. 15</td>\n",
       "      <td>HOMEOWNERS  \\nFORMS FI LING HO -2021 -OFR21  P...</td>\n",
       "    </tr>\n",
       "    <tr>\n",
       "      <th>15</th>\n",
       "      <td>Change No. 16</td>\n",
       "      <td>HOMEOWNERS  \\nFORMS FI LING HO -2021 -OFR21  P...</td>\n",
       "    </tr>\n",
       "    <tr>\n",
       "      <th>16</th>\n",
       "      <td>Change No. 17</td>\n",
       "      <td>HOMEOWNERS  \\nFORMS FI LING HO -2021 -OFR21  P...</td>\n",
       "    </tr>\n",
       "    <tr>\n",
       "      <th>17</th>\n",
       "      <td>Change No. 18</td>\n",
       "      <td>HOMEOWNERS  \\nFORMS FI LING HO -2021 -OFR21  P...</td>\n",
       "    </tr>\n",
       "    <tr>\n",
       "      <th>18</th>\n",
       "      <td>Change No. 19</td>\n",
       "      <td>HOMEOWNERS  \\nFORMS FI LING HO -2021 -OFR21  P...</td>\n",
       "    </tr>\n",
       "    <tr>\n",
       "      <th>19</th>\n",
       "      <td>Change No. 20</td>\n",
       "      <td>HOMEOWNERS  \\nFORMS FI LING HO -2021 -OFR21  P...</td>\n",
       "    </tr>\n",
       "    <tr>\n",
       "      <th>20</th>\n",
       "      <td>Change No. 21</td>\n",
       "      <td>HOMEOWNERS  \\nFORMS FI LING HO -2021 -OFR21  P...</td>\n",
       "    </tr>\n",
       "    <tr>\n",
       "      <th>21</th>\n",
       "      <td>Change No. 22</td>\n",
       "      <td>HOMEOWNERS  \\nFORMS FI LING HO -2021 -OFR21  P...</td>\n",
       "    </tr>\n",
       "    <tr>\n",
       "      <th>22</th>\n",
       "      <td>Change No. 23</td>\n",
       "      <td>HOMEOWNERS  \\nFORMS FI LING HO -2021 -OFR21  P...</td>\n",
       "    </tr>\n",
       "    <tr>\n",
       "      <th>23</th>\n",
       "      <td>Change No. 24</td>\n",
       "      <td>HOMEOWNERS  \\nFORMS FI LING HO -2021 -OFR21  P...</td>\n",
       "    </tr>\n",
       "    <tr>\n",
       "      <th>24</th>\n",
       "      <td>Change No. 25</td>\n",
       "      <td>HOMEOWNERS  \\nFORMS FI LING HO -2021 -OFR21  P...</td>\n",
       "    </tr>\n",
       "    <tr>\n",
       "      <th>25</th>\n",
       "      <td>Change No. 26</td>\n",
       "      <td>HOMEOWNERS  \\nFORMS FI LING HO -2021 -OFR21  P...</td>\n",
       "    </tr>\n",
       "    <tr>\n",
       "      <th>26</th>\n",
       "      <td>Change No. 27</td>\n",
       "      <td>HOMEOWNERS  \\nFORMS FI LING HO -2021 -OFR21  P...</td>\n",
       "    </tr>\n",
       "  </tbody>\n",
       "</table>\n",
       "</div>"
      ],
      "text/plain": [
       "          CHAPTER                                    CHAPTER CONTENT\n",
       "0    Change No. 1  HOMEOWNERS  \\nFORMS FI LING HO -2021 -OFR21  P...\n",
       "1    Change No. 2  HOMEOWNERS  \\nFORMS FI LING HO -2021 -OFR21  P...\n",
       "2    Change No. 3  HOMEOWNERS  \\nFORMS FI LING HO -2021 -OFR21  P...\n",
       "3    Change No. 4  HOMEOWNERS  \\nFORMS FI LING HO -2021 -OFR21  P...\n",
       "4    Change No. 5  HOMEOWNERS  \\nFORMS FI LING HO -2021 -OFR21  P...\n",
       "5    Change No. 6  HOMEOWNERS  \\nFORMS FI LING HO -2021 -OFR21  P...\n",
       "6    Change No. 7  HOMEOWNERS  \\nFORMS FI LING HO -2021 -OFR21  P...\n",
       "7    Change No. 8  HOMEOWNERS  \\nFORMS FI LING HO -2021 -OFR21  P...\n",
       "8    Change No. 9  HOMEOWNERS  \\nFORMS FI LING HO -2021 -OFR21  P...\n",
       "9   Change No. 10  HOMEOWNERS  \\nFORMS FI LING HO -2021 -OFR21  P...\n",
       "10  Change No. 11  HOMEOWNERS  \\nFORMS FI LING HO -2021 -OFR21  P...\n",
       "11  Change No. 12  HOMEOWNERS  \\nFORMS FI LING HO -2021 -OFR21  P...\n",
       "12  Change No. 13  HOMEOWNERS  \\nFORMS FI LING HO -2021 -OFR21  P...\n",
       "13  Change No. 14  HOMEOWNERS  \\nFORMS FI LING HO -2021 -OFR21  P...\n",
       "14  Change No. 15  HOMEOWNERS  \\nFORMS FI LING HO -2021 -OFR21  P...\n",
       "15  Change No. 16  HOMEOWNERS  \\nFORMS FI LING HO -2021 -OFR21  P...\n",
       "16  Change No. 17  HOMEOWNERS  \\nFORMS FI LING HO -2021 -OFR21  P...\n",
       "17  Change No. 18  HOMEOWNERS  \\nFORMS FI LING HO -2021 -OFR21  P...\n",
       "18  Change No. 19  HOMEOWNERS  \\nFORMS FI LING HO -2021 -OFR21  P...\n",
       "19  Change No. 20  HOMEOWNERS  \\nFORMS FI LING HO -2021 -OFR21  P...\n",
       "20  Change No. 21  HOMEOWNERS  \\nFORMS FI LING HO -2021 -OFR21  P...\n",
       "21  Change No. 22  HOMEOWNERS  \\nFORMS FI LING HO -2021 -OFR21  P...\n",
       "22  Change No. 23  HOMEOWNERS  \\nFORMS FI LING HO -2021 -OFR21  P...\n",
       "23  Change No. 24  HOMEOWNERS  \\nFORMS FI LING HO -2021 -OFR21  P...\n",
       "24  Change No. 25  HOMEOWNERS  \\nFORMS FI LING HO -2021 -OFR21  P...\n",
       "25  Change No. 26  HOMEOWNERS  \\nFORMS FI LING HO -2021 -OFR21  P...\n",
       "26  Change No. 27  HOMEOWNERS  \\nFORMS FI LING HO -2021 -OFR21  P..."
      ]
     },
     "execution_count": 19,
     "metadata": {},
     "output_type": "execute_result"
    }
   ],
   "source": [
    "chap_content"
   ]
  },
  {
   "cell_type": "markdown",
   "id": "b358a7f6",
   "metadata": {},
   "source": [
    "CREATING A SUMMARY CHAIN USING LANGCHAIN FOR SUMMARIZING EACH CHAPTER USING MAP REDUCE FUNCTIONALITY"
   ]
  },
  {
   "cell_type": "code",
   "execution_count": 55,
   "id": "b21c4ff5",
   "metadata": {},
   "outputs": [],
   "source": [
    "summary_chain = load_summarize_chain(llm=llm, chain_type='map_reduce',\n",
    "#                                      verbose=True # Set verbose=True if you want to see the prompts being used\n",
    "                                    )"
   ]
  },
  {
   "cell_type": "markdown",
   "id": "7b361b40",
   "metadata": {},
   "source": [
    "CREATING TEXT SPLITTER TO SPLIT EACH CHAPTER INTO MULTIPLE CHUNKS FOR MODEL TO EASILY READ EACH CHAPTERS CONTENT"
   ]
  },
  {
   "cell_type": "code",
   "execution_count": 72,
   "id": "912b25a3",
   "metadata": {},
   "outputs": [],
   "source": [
    "text_splitter = RecursiveCharacterTextSplitter(separators=[\"\\n\\n\", \"\\n\"], chunk_size=10000, chunk_overlap=0)"
   ]
  },
  {
   "cell_type": "markdown",
   "id": "3e95e053",
   "metadata": {},
   "source": [
    "SPLITTING EACH CHAPTER CONTENT AND THEN SUMMARIZING AND THEN SAVING IN JSON"
   ]
  },
  {
   "cell_type": "code",
   "execution_count": 76,
   "id": "e6b2fa26",
   "metadata": {},
   "outputs": [],
   "source": [
    "final_json = {}\n",
    "for i,j in zip(chap_content['CHAPTER'],chap_content['CHAPTER CONTENT']):\n",
    "    splits = text_splitter.split_text(j)\n",
    "    docs = text_splitter.create_documents(splits)\n",
    "    \n",
    "    result = summary_chain.run(docs)\n",
    "    \n",
    "    final_json[i] = result"
   ]
  },
  {
   "cell_type": "code",
   "execution_count": 85,
   "id": "91dd2663",
   "metadata": {},
   "outputs": [],
   "source": [
    "final_df = pd.DataFrame(final_json.items(),columns=['CHAPTER','SUMMARY OF CHAPTER'])"
   ]
  },
  {
   "cell_type": "code",
   "execution_count": 147,
   "id": "8c725eff",
   "metadata": {},
   "outputs": [],
   "source": [
    "final_df.to_excel('CHAPTER WISE SUMMARY.xlsx',index=False)"
   ]
  },
  {
   "cell_type": "code",
   "execution_count": 148,
   "id": "e2780c98",
   "metadata": {},
   "outputs": [
    {
     "data": {
      "text/plain": [
       "{'Change No. 1': 'Revisions are being made to homeowners insurance forms to address various issues such as leasing of mineral rights, coverage limits, and coverage for specific items like virtual currency and riding lawn mowers. The changes aim to clarify coverage, broaden or reduce coverage depending on the specific change, and address emerging risks such as cannabis-related property and liability exposures. Additionally, some endorsements are being withdrawn and new forms are being introduced to adapt to changing needs and advancements in technology. Overall, the revisions aim to provide more flexibility and options for insurers and policyholders while maintaining consistency and clarity.',\n",
       " 'Change No. 2': 'The document outlines revisions to homeowners insurance policies, including changes to the definition of \"business\" and coverage limits for personal property. ISO is updating its Homeowners policy forms to make changes to coverage for model or hobby aircraft and watercraft, as well as motor vehicle equipment and virtual currencies. The changes aim to broaden coverage in some areas and reduce coverage in others. There are also revisions to the watercraft liability exclusion, deductible application, loss settlement, and coverage for specific structures, motorized bicycles and scooters, and cannabis. New endorsements and optional coverages are introduced to provide insurers with more flexibility. The document also includes revisions to forms and endorsements, as well as coverage for antiques, fine arts, rare items, and model or hobby aircraft or watercraft. The changes address individual unique exposures and streamline the insurance process. Other revisions include modifications to phrases related to loss of use, coverage for \"green\" upgrades, and standardized language for coverage of media. The document also lists forms and endorsements for property remediation, sinkhole collapse, personal property, additional insured parties, and various other coverages.',\n",
       " 'Change No. 3': 'The summary outlines various revisions and changes being made to the ISO Homeowners Policy Program. These changes include broadening coverage in some areas and reducing coverage in others. Revisions are being made to forms and endorsements to provide more comprehensive coverage for homeowners, introduce new optional endorsements, and address specific coverage needs such as motorized bicycles, cannabis, and home-sharing activities. The revisions aim to provide increased coverage options and flexibility for insurers.',\n",
       " 'Change No. 4': 'Various changes are being made to homeowners insurance forms, including updates to coverage limits, exclusions for virtual currencies, and revisions to coverage for watercraft, vacant dwellings, and motor vehicles. Revisions are also being made to endorsements, including those related to earthquake coverage, theft coverage, and coverage for cannabis-related property and liability risks. ISO is introducing a new coverage form for millennials and withdrawing certain endorsements due to advances in technology. The forms and endorsements cover a wide range of topics such as coverage for fungi, theft, earthquake, and personal injury.',\n",
       " 'Change No. 5': 'Insurance Services Office (ISO) is making revisions and changes to their homeowners insurance forms and endorsements. These changes include redefining watercraft and motor vehicles, addressing coverage for virtual currencies, introducing new endorsements for coverage options, addressing hazards presented by motorized bicycles and scooters, introducing coverage for trees and plants, incorporating provisions for home-sharing host activities, updating endorsements related to computer-related damage, and making miscellaneous revisions for consistency and clarity.',\n",
       " 'Change No. 6': 'The document discusses various revisions and introductions to homeowners insurance policies, forms, and endorsements. These changes aim to broaden coverage in some areas and provide more options for insured individuals. The revisions address coverage for motor vehicles, virtual currency, loss settlement provisions, riding lawn mowers, watercraft liability, subrogation, and more. Some changes reduce coverage for controlled substances, while others introduce new coverage options for cannabis-related exposures. Overall, the changes aim to clarify and enhance coverage for policyholders. The document also includes a list of various forms and endorsements related to homeowners and mobilehome coverage. The updates do not impact coverage.',\n",
       " 'Change No. 7': 'The Insurance Services Office, Inc. (ISO) is making revisions to their homeowners insurance forms to address a variety of coverage changes and options. These revisions include clarifying coverage for electronic currency, expanding coverage for additional living expenses, and making changes to vehicle liability coverage. There are also revisions to address specific situations such as coverage for cannabis-related exposures and introducing new coverage options for theft and water backup. Additionally, there are changes being made to computer equipment coverage forms and various endorsements. The goal is to provide more flexibility and options for policyholders while keeping up with advancements in technology and changes in the market.',\n",
       " 'Change No. 8': 'Changes are being made to homeowners insurance forms to broaden coverage for loss of use, relocate coverage for credit card forgery and counterfeit money, clarify provisions for vacant dwellings undergoing remodeling, address deductibles in determining loss settlement amounts, revise watercraft liability exclusion, introduce new endorsements for theft during construction and water backup coverage, and provide coverage for specified other structures, motorized bicycles and scooters, and cannabis. The revisions aim to provide additional flexibility, restatement or broadening of coverage, and address emerging exposures. The forms and endorsements are being revised for consistency, clarification, and grammatical/formatting reasons, without impacting coverage. The list of forms and endorsements covers liability, property damage, increased insurance limits, special coverage, additional insured provisions, exclusions, and transition endorsements.',\n",
       " 'Change No. 9': 'The Insurance Services Office is making revisions and updates to homeowners insurance forms and endorsements. These changes include clarifying coverage for vacant dwellings undergoing remodeling, renovation, or repair, reintroducing provisions regarding deductibles, and broadening coverage. The revisions also address liability exclusions for motor vehicles and watercraft. Optional endorsements for coverage related to cannabis are being introduced, and a new policy form is being introduced to meet changing needs. The changes aim to enhance coverage, address feedback, and provide increased flexibility for insurers. The revisions do not impact coverage, but include clarifications, modifications, and updates to wording, definitions, and section numbers. A list of new, revised, and withdrawn forms and endorsements is provided. Overall, these changes aim to provide comprehensive coverage and address various types of liabilities and property damage.',\n",
       " 'Change No. 10': 'The provided text includes revisions to homeowners insurance forms addressing various coverage issues such as vandalism, water damage, motor vehicle liability, and cannabis. The revisions aim to broaden coverage and improve clarity for policyholders. The Insurance Services Office (ISO) is introducing new coverage forms and endorsements to address changing needs in the marketplace, including coverage options for millennials and emerging exposures. ISO is also withdrawing certain endorsements due to advancements in technology. Additionally, there are lists of various coverage options and forms for homeowners insurance policies, including coverage for theft, earthquake damage, rented structures, personal property, and more. There are also specific forms related to mobile home coverage.',\n",
       " 'Change No. 11': 'The document summarizes various revisions and changes made to homeowners insurance policies. These changes include clarifications on coverage for loss settlement and motor vehicle liability, broadening coverage for watercraft, theft, and other areas, addressing emerging exposures related to motorized bicycles, motorized scooters, and cannabis, and introducing new provisions for coverage of hemp and limited cannabis coverage. The document also introduces a new policy form to address the changing needs of millennials. Additionally, there are revisions to various forms and endorsements, including updates to wording, transitions, and titles. Overall, the changes aim to provide more flexibility and options for policyholders.',\n",
       " 'Change No. 12': 'Insurance Services Office, Inc. is revising various forms and endorsements related to homeowners insurance. The revisions include changes to personal property replacement cost loss settlement, motor vehicle liability exclusion, liability-watercraft exclusion, and subrogation condition. The changes aim to broaden coverage and provide additional options for policyholders. Additionally, new optional endorsements are introduced for non-owned motorized bicycles and scooters, as well as coverage for cannabis-related property and liability exposures. There is a reduction in coverage for controlled substances, including cannabis, but new endorsements provide broader coverage. Various forms and endorsements are being revised and withdrawn, but these changes do not impact coverage. The text also includes lists of different homeowners insurance forms and endorsements, as well as insurance coverage forms and definitions for homeowners and mobile homes.',\n",
       " 'Change No. 13': 'Insurance Services Office, Inc. is making revisions to homeowners insurance forms to update coverage provisions related to watercraft liability, subrogation, earthquake deductibles, limited theft endorsements, and coverage of cannabis and controlled substances. They are introducing new optional endorsements and coverage forms to address specific coverage needs and provide flexibility for insurers. There are also miscellaneous revisions to other forms and endorsements, as well as updates to transition endorsements. These changes aim to meet the changing needs of policyholders and provide comprehensive coverage options.',\n",
       " 'Change No. 14': 'The summary provides an overview of changes made to homeowners insurance policies and endorsements. The changes include revisions to coverage for watercraft liability, subrogation conditions, earthquake endorsements, and theft endorsements for dwellings under construction. The Insurance Services Office is introducing new optional endorsements and revising existing ones to provide increased flexibility and coverage options. They are also making changes to address coverage for motorized bicycles, motorized scooters, and cannabis. The summary also mentions changes made to property coverage, the introduction of a new homeowners policy, and various forms and endorsements related to homeowners insurance coverage.',\n",
       " 'Change No. 15': 'Insurance Services Office, Inc. (ISO) is revising their homeowners insurance forms to include changes in coverage and options for policyholders. These changes include revisions to earthquake endorsement schedules, limited theft endorsements for dwellings under construction, broader water backup and sump discharge or overflow coverage, and new replacement cost loss settlement options. ISO is also introducing new and revised endorsements for coverage related to other structures, motorized bicycles and scooters, and emerging exposures to cannabis. Additionally, ISO is withdrawing certain endorsements due to advancements in policy automation and making miscellaneous revisions to improve clarity and consistency. The provided text lists various forms and endorsements related to homeowners insurance that cover a wide range of topics and coverages.',\n",
       " 'Change No. 16': 'The summary discusses revisions and introductions to homeowners insurance forms, including new endorsements for coverage of earthquake losses, limited theft coverage for dwellings under construction, broadened water backup coverage, and new replacement cost loss settlement options. It also mentions changes related to cannabis-related exposures and the introduction of coverage options for millennials. Additionally, it lists various coverage options and endorsements for homeowners and mobilehome policies, including identity fraud expenses, special loss settlements, additional insured coverage, and more.',\n",
       " 'Change No. 17': 'The summary outlines multiple changes and revisions to homeowners insurance coverage options offered by Insurance Services Office, Inc. These changes include the introduction of new coverage options, endorsements, and policy forms to address emerging risks and provide insurers with alternative coverage options. The revisions also aim to improve consistency and clarity in the policy forms. Some of the specific changes include the addition of coverage for motorized bicycles and motorized scooters, provisions addressing cannabis-related exposures, and the introduction of endorsements for home-sharing host activities and valuable papers and records coverage. Overall, these changes aim to meet the changing needs of policyholders and provide comprehensive coverage options.',\n",
       " 'Change No. 18': 'Insurance Services Office (ISO) is making revisions to their homeowners insurance policies. The revisions include changes to coverage for vehicles and liability, coverage for cannabis-related property and liability exposures, and provisions for home-sharing host activities. The revisions introduce new endorsements for coverage exclusions and broaden coverage for certain vehicles. They also address emerging exposures related to cannabis and provide additional coverage options. Additionally, the revisions include changes to forms and endorsements to clarify coverage and make miscellaneous revisions. Overall, the revisions aim to address emerging exposures and provide additional coverage options for policyholders.',\n",
       " 'Change No. 19': 'Insurance Services Office, Inc. is making changes to their homeowners insurance policies by introducing new endorsements and revising existing forms. These changes include coverage for structures away from the residence premises, replacement cost loss settlement for outdoor kitchens, scheduling of additional insured locations, exclusion for specific structures, and coverage for motorized bicycles and scooters. They are also addressing coverage for cannabis-related exposures and introducing optional endorsements for limited cannabis property coverage and broadened liability coverage. The revisions do not impact coverage and there are also miscellaneous revisions being made for clarity and consistency. Additionally, the list includes various forms and endorsements for different types of homeowners insurance policies, as well as additional coverage options.',\n",
       " 'Change No. 20': 'This summary outlines changes and additions to homeowners insurance policies. It includes changes such as the option to exclude specific structures from coverage, coverage for motorized bicycles and scooters, and provisions for cannabis-related exposures. The Insurance Services Office is also revising coverage for controlled substances and introducing new endorsements for limited cannabis coverage. The document also discusses additional coverages and exclusions in the new homeowners insurance policy, withdrawal of certain endorsements, and miscellaneous revisions to forms and endorsements. It concludes with a list of various forms and endorsements related to homeowners insurance coverage.',\n",
       " 'Change No. 21': 'The Insurance Services Office is revising their Homeowners base policy forms to address coverage for motorized bicycles and scooters, as well as cannabis-related exposures. They are also making changes to coverage for trees, shrubs, and other plants to exclude cannabis. The revisions include the introduction of new endorsements and provisions for cannabis-related exposures. Additionally, the company is introducing a new coverage form for comprehensive contents that caters to the changing needs of policyholders. The changes aim to provide alternative coverage options and address emerging exposures. There are also revisions and updates being made to property coverage and endorsements in the base Homeowners policy forms, but these changes will not impact coverage overall. The provided information includes a list of various homeowners insurance forms and endorsements, as well as a list of insurance coverage endorsements and amendments for homeowners and mobilehome policies. These endorsements cover a range of topics and provide additional coverage options or exclusions for specific situations or risks.',\n",
       " 'Change No. 22': 'The document outlines revisions and changes to homeowners insurance policies, including increased speed limits for certain recreational vehicles, new coverage exclusions for liability related to non-owned motorized bicycles and scooters, and provisions for cannabis-related exposures. It also introduces new endorsements for limited cannabis property and liability coverage, a new coverage form for changing policyholder needs, and provisions for home-sharing activities. Additionally, there are miscellaneous revisions to clarify coverage for remodeled dwellings, modify language for loss of use coverage, address green upgrades, and standardize coverage for antennas and media. The revisions do not impact coverage. The document also includes changes to text layout, titles, and definitions in the ISO Homeowners Multistate General Program, as well as a list of various insurance coverage options and endorsements for homeowners and mobilehome policies.',\n",
       " 'Change No. 23': 'Insurance Services Office, Inc. is making revisions to their ISO Homeowners Policy Program to address the emerging cannabis exposure. They are introducing a new definition of \"cannabis\" and stating that controlled substances are not covered. They are also introducing new endorsements for limited cannabis property and liability coverage. Additionally, they are creating a new coverage form for contents comprehensive coverage. ISO has conducted research on millennials and other generations and has found opportunities to create personalized insurance products. They are introducing a new policy form and incorporating provisions related to home-sharing host activities. They are also withdrawing certain endorsements. The document outlines changes and revisions to various forms and endorsements in the ISO Homeowners Policy Program. There is no impact on coverage as a result of these changes. The given text is a list of various homeowners insurance forms and endorsements, including earthquake coverage, identity fraud coverage, and various other coverages and endorsements for different types of property.',\n",
       " 'Change No. 24': 'The summary outlines changes and updates made to homeowners insurance policy forms, including coverage for various items and provisions for home-sharing host activities. It also mentions the withdrawal of certain endorsements that are no longer useful. The document further discusses revisions and changes to homeowners insurance forms and endorsements, clarifying language and making miscellaneous revisions. It also provides a list of various coverage options and enhancements, as well as transition endorsements for different types of homeowners forms. Lastly, the summary mentions a list of insurance coverage forms and endorsements for homeowners and mobilehome owners, covering a wide range of risks and liabilities.',\n",
       " 'Change No. 25': 'The summary explains that there have been updates and revisions to homeowners insurance forms and endorsements. Some endorsements have been removed, while others have been incorporated into the base forms. There are also changes to definitions and coverage provisions. The revised forms and endorsements are provided in a standard format with deleted material struck through and new material underlined. The forms offer different levels of coverage for homeowners and cover specific situations and property.',\n",
       " 'Change No. 26': 'The Insurance Services Office is removing certain endorsements from its Homeowners Policy Program due to advancements in technology. These changes will not affect coverage. The ISO is also making revisions to clarify language and update coverage options. There are also various editorial revisions to improve clarity and consistency. The document includes a list of revised, withdrawn, and new forms and endorsements for homeowners insurance.',\n",
       " 'Change No. 27': 'The document discusses revisions being made to homeowners insurance forms to ensure consistency. Changes include updating computer-related damage endorsements, transitioning policy forms, and making editorial revisions. The revisions do not impact coverage. The document also provides a list of revised forms and endorsements, along with various coverages and endorsements related to homeowners insurance.'}"
      ]
     },
     "execution_count": 148,
     "metadata": {},
     "output_type": "execute_result"
    }
   ],
   "source": [
    "final_json"
   ]
  },
  {
   "cell_type": "code",
   "execution_count": 150,
   "id": "45342b7d",
   "metadata": {},
   "outputs": [],
   "source": [
    "file_path = \"CHAPTER WISE SUMMARY.txt\""
   ]
  },
  {
   "cell_type": "code",
   "execution_count": 151,
   "id": "c57086fb",
   "metadata": {},
   "outputs": [],
   "source": [
    "with open(file_path, 'w') as file:\n",
    "    json.dump(final_json, file)"
   ]
  },
  {
   "cell_type": "code",
   "execution_count": null,
   "id": "b53ead0a",
   "metadata": {},
   "outputs": [],
   "source": []
  }
 ],
 "metadata": {
  "kernelspec": {
   "display_name": "Python 3 (ipykernel)",
   "language": "python",
   "name": "python3"
  },
  "language_info": {
   "codemirror_mode": {
    "name": "ipython",
    "version": 3
   },
   "file_extension": ".py",
   "mimetype": "text/x-python",
   "name": "python",
   "nbconvert_exporter": "python",
   "pygments_lexer": "ipython3",
   "version": "3.11.4"
  }
 },
 "nbformat": 4,
 "nbformat_minor": 5
}
